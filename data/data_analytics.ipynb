{
 "cells": [
  {
   "cell_type": "code",
   "execution_count": null,
   "metadata": {},
   "outputs": [],
   "source": [
    "import pandas as pd\n",
    "import numpy as np\n",
    "from IPython.display import display\n",
    "pd.set_option('display.max_columns', None)"
   ]
  },
  {
   "cell_type": "code",
   "execution_count": null,
   "metadata": {},
   "outputs": [],
   "source": [
    "# McPAS Analytics\n",
    "# Make sure to delete the empty entry at the end of the file\n",
    "mcpas = pd.read_csv('McPAS-TCR.csv', encoding = 'latin', low_memory=False)\n",
    "mcpas"
   ]
  },
  {
   "cell_type": "code",
   "execution_count": null,
   "metadata": {},
   "outputs": [],
   "source": [
    "# McPAS Summary Statistics \n",
    "def describe_mcpas(df):\n",
    "    print('Mouse Samples: ', len(df[df['Species'] == 'Mouse']))\n",
    "    print('Human Samples: ', len(df[df['Species'] == 'Human']))\n",
    "    print('Unique Antigen Sequences: ', len(df['Epitope.peptide'].unique()))\n",
    "    print('Cancer Based Samples: ', len(df[df['Category'] == 'Cancer']))\n",
    "    print('CD8 T-Cell Samples: ', len(df[df['T.Cell.Type'] == 'CD8']))\n",
    "    print('CD4 T-Cell Samples: ', len(df[df['T.Cell.Type'] == 'CD4']))\n",
    "    print('MHC I Samples: ', len(df[df['MHC'].str.match('^HLA-[ABC]')==True]))\n",
    "    print('MHC II Sample: ', len(df[df['MHC'].str.match('^(HLA-D|DR|D)')==True]))\n",
    "    print('TCR-Epitope Pairs Available: ', len(df))\n",
    "\n",
    "# McPAS TCR Beta Sequences\n",
    "mcpas_beta_pairs = mcpas.loc[(mcpas['CDR3.beta.aa'].notnull()) & (mcpas['Epitope.peptide'].notnull())]\n",
    "print('McPAS TCR Beta Sequences')\n",
    "print('Unique CDR3 Beta Sequences: ', len(mcpas_beta_pairs['CDR3.beta.aa'].unique()))\n",
    "describe_mcpas(mcpas_beta_pairs)\n",
    "\n",
    "# McPAS TCR Alpha Sequences\n",
    "mcpas_alpha_pairs = mcpas.loc[(mcpas['CDR3.alpha.aa'].notnull()) & (mcpas['Epitope.peptide'].notnull())]\n",
    "print('\\nMcPAS TCR Alpha Sequences')\n",
    "print('Unique CDR3 Alpha Sequences: ', len(mcpas_alpha_pairs['CDR3.alpha.aa'].unique()))\n",
    "describe_mcpas(mcpas_alpha_pairs)\n",
    "\n",
    "# McPAS TCR Alpha AND Beta Sequences\n",
    "mcpas_both_pairs = mcpas.loc[(mcpas['CDR3.alpha.aa'].notnull()) & (mcpas['Epitope.peptide'].notnull()) & (mcpas['CDR3.beta.aa'].notnull())]\n",
    "print('\\nMcPAS TCR Both Beta and Alpha Available')\n",
    "describe_mcpas(mcpas_both_pairs)"
   ]
  },
  {
   "cell_type": "code",
   "execution_count": null,
   "metadata": {},
   "outputs": [],
   "source": [
    "# VDJDB Analytics\n",
    "vdjdb = pd.read_csv('VDJDB.tsv', encoding='latin', sep='\\t')\n",
    "vdjdb"
   ]
  },
  {
   "cell_type": "code",
   "execution_count": null,
   "metadata": {},
   "outputs": [],
   "source": [
    "# VDJDB Summary Statistics\n",
    "def describe_vdjdb(df):\n",
    "    print('Human Samples: ', len(df[df['Species'] == 'HomoSapiens']))\n",
    "    print('Mouse Samples: ', len(df[df['Species'] == 'MusMusculus']))\n",
    "    print('Monkey Samples: ', len(df[df['Species'] == 'MacacaMulatta']))\n",
    "    print('Unique Antigen Sequences: ', len(df['Epitope'].unique()))\n",
    "    print('MHC Class I: ', len(df[df['MHC class'] == 'MHCI']))\n",
    "    print('MHC Class II: ', len(df[df['MHC class'] == 'MHCII']))\n",
    "    print('Total Pairs: ', len(df))\n",
    "    print('Score 0: ', len(df[df['Score'] == 0]))\n",
    "    print('Score 1: ', len(df[df['Score'] == 1]))\n",
    "    print('Score 2: ', len(df[df['Score'] == 2]))\n",
    "    print('Score 3: ', len(df[df['Score'] == 3]))\n",
    "\n",
    "# VDJDB TCR Beta Sequences\n",
    "vdjdb_beta_pairs = vdjdb.loc[(vdjdb['Gene'] == 'TRB') & (vdjdb['Epitope'].notnull())]\n",
    "print('VDJDB Beta Sequences')\n",
    "print('Unique CDR3 Beta Sequences: ', len(vdjdb_beta_pairs['CDR3'].unique()))\n",
    "describe_vdjdb(vdjdb_beta_pairs)\n",
    "\n",
    "# VDJDB TCR Alpha Sequences\n",
    "vdjdb_alpha_pairs = vdjdb.loc[(vdjdb['Gene'] == 'TRA') & (vdjdb['Epitope'].notnull())]\n",
    "print('\\nVDJDB Alpha Sequences')\n",
    "print('Unique CDR3 Alpha Sequences: ', len(vdjdb_alpha_pairs['CDR3'].unique()))\n",
    "describe_vdjdb(vdjdb_alpha_pairs)\n",
    "\n",
    "# VDJDB TCR Alpha OR Beta Sequences\n",
    "print('\\nVDJDB Alpha or Beta Sequences')\n",
    "print('Unique CDR3 Alpha or Beta Sequences: ', len(vdjdb['CDR3'].unique()))\n",
    "describe_vdjdb(vdjdb)"
   ]
  },
  {
   "cell_type": "code",
   "execution_count": null,
   "metadata": {
    "scrolled": true
   },
   "outputs": [],
   "source": [
    "# IEDB Analytics\n",
    "iedb_class_i = pd.read_csv('iedb_mhc_class_i.csv', low_memory=False)\n",
    "print('IEDB MHC Class I')\n",
    "display(iedb_class_i)\n",
    "\n",
    "iedb_class_ii = pd.read_csv('iedb_mhc_class_ii.csv', low_memory=False)\n",
    "print('IEDB MHC Class II')\n",
    "display(iedb_class_ii)"
   ]
  },
  {
   "cell_type": "code",
   "execution_count": null,
   "metadata": {},
   "outputs": [],
   "source": [
    "# Filter down the data to relevant columns\n",
    "def extract_relevant_columns(df):\n",
    "    df = df[['Description', 'Chain 1 CDR3 Curated', 'Chain 2 CDR3 Curated']]\n",
    "    df.columns = ['Peptide', 'Alpha CDR3', 'Beta CDR3']\n",
    "    return df\n",
    "\n",
    "iedb_class_i = extract_relevant_columns(iedb_class_i)\n",
    "iedb_class_ii = extract_relevant_columns(iedb_class_ii)"
   ]
  },
  {
   "cell_type": "code",
   "execution_count": null,
   "metadata": {},
   "outputs": [],
   "source": [
    "# Generate Some Summary Statistics about IEDB\n",
    "def summary_stats(df):\n",
    "    print('Unique Peptides: ', len(df['Peptide'].unique()))\n",
    "    print('Total Pairs: ', len(df))\n",
    "    \n",
    "def filter_alpha(df):\n",
    "    filtered_data = df.loc[df['Alpha CDR3'].notnull()]\n",
    "    return filtered_data\n",
    "\n",
    "def filter_beta(df):\n",
    "    filtered_data = df.loc[df['Beta CDR3'].notnull()]\n",
    "    return filtered_data\n",
    "\n",
    "def filter_both_alpha_beta(df):\n",
    "    filtered_data = df.loc[df['Alpha CDR3'].notnull() & df['Beta CDR3'].notnull()]\n",
    "    return filtered_data\n",
    "\n",
    "# Alpha Analysis\n",
    "print('CDR3 Alpha Pairs')\n",
    "print('MHC Class I')\n",
    "summary_stats(filter_alpha(iedb_class_i))\n",
    "print('MHC Class II')\n",
    "summary_stats(filter_alpha(iedb_class_ii))\n",
    "\n",
    "# Beta Analysis\n",
    "print('\\nCDR3 Beta Pairs')\n",
    "print('MHC Class I')\n",
    "summary_stats(filter_beta(iedb_class_i))\n",
    "print('MHC Class II')\n",
    "summary_stats(filter_beta(iedb_class_ii))\n",
    "\n",
    "# Alpha and Beta Analysis\n",
    "print('\\nCDR3 Alpha and Beta Pairs')\n",
    "print('MHC Class I')\n",
    "summary_stats(filter_both_alpha_beta(iedb_class_i))\n",
    "print('MHC Class II')\n",
    "summary_stats(filter_both_alpha_beta(iedb_class_ii))"
   ]
  },
  {
   "cell_type": "code",
   "execution_count": null,
   "metadata": {},
   "outputs": [],
   "source": [
    "\"\"\"\n",
    "Combine the datasets\n",
    "Conditions:\n",
    "- Beta Sequences Only\n",
    "- VDJDB Score > 0\n",
    "\"\"\"\n",
    "def final_filter_mcpas(raw_mcpas):\n",
    "    df = raw_mcpas.loc[(raw_mcpas['Epitope.peptide'].notnull())]\n",
    "    df = df[['CDR3.beta.aa', 'Epitope.peptide', 'MHC']] # Beta Sequences Only\n",
    "    df['MHC'] = df['MHC'].replace(regex={r'^HLA-[ABC].*': 'MHCI', r'^(HLA-D|D).*': 'MHCII'})\n",
    "    df = df.loc[(df['MHC'] == 'MHCI') | (df['MHC'] == 'MHCII')]\n",
    "    df.columns = ['CDR3', 'Epitope', 'MHC Class']\n",
    "    return df\n",
    "\n",
    "def final_filter_vdjdb(raw_vdjdb):\n",
    "    df = raw_vdjdb.loc[(raw_vdjdb['Gene'] == 'TRB') & (raw_vdjdb['Epitope'].notnull())] # Beta Sequences Only\n",
    "    df = df[['CDR3', 'Epitope', 'MHC class', 'Score']]\n",
    "    df = df.loc[df['Score'] > 0] # VDJDB Score > 0\n",
    "    df.columns = ['CDR3', 'Epitope', 'MHC Class', 'VDJDB Score']\n",
    "    return df\n",
    "\n",
    "def final_filter_iedb(raw_iedb_class_i, raw_iedb_class_ii):\n",
    "    raw_iedb_class_i['MHC Class'] = 'MHCI'\n",
    "    raw_iedb_class_ii['MHC Class'] = 'MHCII'\n",
    "    df = pd.concat([raw_iedb_class_i, raw_iedb_class_ii])\n",
    "    df = df[['Beta CDR3', 'Peptide', 'MHC Class']] # Beta Sequences Only\n",
    "    df.columns = ['CDR3', 'Epitope', 'MHC Class']\n",
    "    return df\n",
    "\n",
    "\n",
    "final_mcpas = final_filter_mcpas(mcpas)\n",
    "final_vdjdb = final_filter_vdjdb(vdjdb)\n",
    "final_iedb = final_filter_iedb(iedb_class_i, iedb_class_ii)\n",
    "combined_sequences = pd.concat([final_mcpas, final_vdjdb, final_iedb])\n",
    "combined_sequences.reset_index(drop=True)"
   ]
  },
  {
   "cell_type": "code",
   "execution_count": null,
   "metadata": {},
   "outputs": [],
   "source": [
    "def combined_summary_stats(df):\n",
    "    print('Unique CDR3 Sequences: ', len(df['CDR3'].unique()))\n",
    "    print('Unique Antigen Sequences: ', len(df['Epitope'].unique()))\n",
    "    print('MHC Class I: ', len(df[df['MHC Class'] == 'MHCI']))\n",
    "    print('MHC Class II: ', len(df[df['MHC Class'] == 'MHCII']))\n",
    "    print('VDJDB Pairs: ', len(final_vdjdb))\n",
    "    print('McPAS Pairs: ', len(final_mcpas))\n",
    "    print('IEDB Pairs: ', len(final_iedb))\n",
    "    print('Total Pairs: ', len(df))\n",
    "\n",
    "print('Combined VDJDB and McPAS Statistics')\n",
    "combined_summary_stats(combined_sequences)\n",
    "\n",
    "# Save to File\n",
    "combined_sequences.to_csv('combined_dataset.csv', index=False)"
   ]
  }
 ],
 "metadata": {
  "kernelspec": {
   "display_name": "Python 3",
   "language": "python",
   "name": "python3"
  },
  "language_info": {
   "codemirror_mode": {
    "name": "ipython",
    "version": 3
   },
   "file_extension": ".py",
   "mimetype": "text/x-python",
   "name": "python",
   "nbconvert_exporter": "python",
   "pygments_lexer": "ipython3",
   "version": "3.8.5-final"
  }
 },
 "nbformat": 4,
 "nbformat_minor": 2
}